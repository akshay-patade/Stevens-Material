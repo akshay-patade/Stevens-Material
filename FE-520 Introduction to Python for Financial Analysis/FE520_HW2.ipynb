{
 "cells": [
  {
   "cell_type": "markdown",
   "id": "e3f5c0de-d764-4c5b-90bf-c408e5d11d4a",
   "metadata": {
    "id": "e3f5c0de-d764-4c5b-90bf-c408e5d11d4a"
   },
   "source": [
    "# FE 520C Assignment 2\n",
    "\n",
    "## YOUR NAME:\n",
    "## CWID:"
   ]
  },
  {
   "cell_type": "markdown",
   "id": "xSWAA6gyccts",
   "metadata": {
    "id": "xSWAA6gyccts"
   },
   "source": [
    "Submission Requirements:\n",
    "1. For all the problems in this assignment you need to use Python 3.7, to output and to present the results in a nice format.\n",
    "2. You need to submit one .ipynb file (Jupyter Notebook file) for your assignment submissions and you need to write comments on your code (use \"#\").\n",
    "3. You are strongly encouraged to write your assignment as a .py file (Python script). You can test these functions in the test block (if name ==” main ”: )\n",
    "4. Do NOT copy and paste from others, all homework will be firstly checked by plagiarism detection tools.\n",
    "5. You need to complete the functions (wrong function name will get 0 points).\n",
    "6. You need to test your function on all given examples to ensure the correctness of your function outputs."
   ]
  },
  {
   "cell_type": "markdown",
   "id": "c29cc729-8fc9-4e2d-9cc7-1b7f05e383c0",
   "metadata": {
    "id": "c29cc729-8fc9-4e2d-9cc7-1b7f05e383c0"
   },
   "source": [
    "## Q1 Even Odd Split (25 pts)"
   ]
  },
  {
   "cell_type": "raw",
   "id": "1a97e750-3809-44e6-87b6-d4bfbe8181ec",
   "metadata": {
    "id": "1a97e750-3809-44e6-87b6-d4bfbe8181ec"
   },
   "source": [
    "Please write a function named is \"evenodd split\" which takes an integer (and optionally a bool) as input. If the parameter even on left is True by default, the function should return true if all even numbers are on left side and all odd numbers on right side. If the parameter even on left is False, the function should return true if all odd numbers are on left side and all even numbers on right side."
   ]
  },
  {
   "cell_type": "code",
   "execution_count": 1,
   "id": "ZAv0f2A3cE2n",
   "metadata": {
    "id": "ZAv0f2A3cE2n"
   },
   "outputs": [],
   "source": [
    "## Examples:\n",
    "# Input: Integer x | Output: boolean\n",
    "\n",
    "# e.g. x = 14356 | False\n",
    "# (1 is left of 4)\n",
    "\n",
    "# e.g. x = 246193 | True\n",
    "#(Note: split does not need to be down the middle)\n",
    "\n",
    "# e.g. x = 2419735, even_on_left = False | False\n",
    "# (even numbers should be on the right)\n",
    "\n",
    "# e.g. x = 5379142, even_on_left = False | True"
   ]
  },
  {
   "cell_type": "code",
   "execution_count": 2,
   "id": "bcd88a20-0c9c-47fc-9383-9489d627bed4",
   "metadata": {
    "id": "bcd88a20-0c9c-47fc-9383-9489d627bed4"
   },
   "outputs": [],
   "source": [
    "## Write down your solutions:\n",
    "def is_evenodd_split(x, even_on_left):\n",
    "    \n",
    "    num = str(x)\n",
    "    first_odd_number = None\n",
    "    for i in range(0, len(num)):\n",
    "        if(int(num[i]) % 2 != 0):\n",
    "            first_odd_number = i\n",
    "            break\n",
    "    \n",
    "    if(first_odd_number == None):\n",
    "        return True\n",
    "    \n",
    "    if(even_on_left):\n",
    "        for i in range(first_odd_number + 1, len(num)):\n",
    "            if(int(first_odd_number) % 2 == 0):\n",
    "                return False\n",
    "    \n",
    "    else:\n",
    "        for i in range(first_odd_number - 1, 0, -1):\n",
    "            if(int(first_odd_number) % 2 == 0):\n",
    "                return False\n",
    "    \n",
    "    return True"
   ]
  },
  {
   "cell_type": "code",
   "execution_count": 3,
   "id": "jj7KEQtre7m0",
   "metadata": {
    "id": "jj7KEQtre7m0"
   },
   "outputs": [
    {
     "name": "stdout",
     "output_type": "stream",
     "text": [
      "> Your answer: \tFalse\n",
      "Right Answer: \tFalse\n",
      "> Your answer: \tTrue\n",
      "Right Answer: \tTrue\n",
      "> Your answer: \tFalse\n",
      "Right Answer: \tFalse\n",
      "> Your answer: \tTrue\n",
      "Right Answer: \tTrue\n"
     ]
    }
   ],
   "source": [
    "## Test your function here:\n",
    "q1_test1 = 14356\n",
    "q1_test2 = 246193\n",
    "q1_test3 = 2419735\n",
    "q1_test4 = 5379142\n",
    "q1_answer1 = is_evenodd_split(q1_test1, even_on_left=True)\n",
    "q1_answer2 = is_evenodd_split(q1_test2, even_on_left=True)\n",
    "q1_answer3 = is_evenodd_split(q1_test3, even_on_left=False)\n",
    "q1_answer4 = is_evenodd_split(q1_test4, even_on_left=False)\n",
    "print(\"> Your answer: \\t\" + str(q1_answer1))\n",
    "print(\"Right Answer: \\tFalse\")\n",
    "print(\"> Your answer: \\t\" + str(q1_answer2))\n",
    "print(\"Right Answer: \\tTrue\")\n",
    "print(\"> Your answer: \\t\" + str(q1_answer3))\n",
    "print(\"Right Answer: \\tFalse\")\n",
    "print(\"> Your answer: \\t\" + str(q1_answer4))\n",
    "print(\"Right Answer: \\tTrue\")"
   ]
  },
  {
   "cell_type": "markdown",
   "id": "d1939696-7af0-4d8c-93b4-b4a9bf53b5c3",
   "metadata": {
    "id": "d1939696-7af0-4d8c-93b4-b4a9bf53b5c3"
   },
   "source": [
    "## Q2 Repeated Letters (25pt)"
   ]
  },
  {
   "cell_type": "markdown",
   "id": "r5-9O_B-crwt",
   "metadata": {
    "id": "r5-9O_B-crwt"
   },
   "source": [
    "The function takes two strings and determines which has most repeated letter. Return ”Neither” if both has same amount. You may assume the input string only contains lowercase alphabets."
   ]
  },
  {
   "cell_type": "code",
   "execution_count": 4,
   "id": "FcLrL5Nkcu98",
   "metadata": {
    "id": "FcLrL5Nkcu98"
   },
   "outputs": [],
   "source": [
    "## Examples:\n",
    "# Input: String s, String t | Output: String\n",
    "\n",
    "# e.g. s = \"noob\", t = \"tattered\" | String t\n",
    "#(’t’ repeated more than ’o’)\n",
    "\n",
    "# e.g. s = \"stands\", t = \"stand\" | String s\n",
    "#(’s’ is repeated more)\n",
    "\n",
    "# e.g. s = \"book\", t = \"steve\" | String \"Neither\"\n",
    "#(’o’ is repeated same amount as ’e’)"
   ]
  },
  {
   "cell_type": "code",
   "execution_count": 5,
   "id": "cd0553fd-9788-459b-b57b-9570f6a4dcb9",
   "metadata": {
    "id": "cd0553fd-9788-459b-b57b-9570f6a4dcb9"
   },
   "outputs": [],
   "source": [
    "## Write down your solutions:\n",
    "def get_more_repeated(s, t):\n",
    "    \n",
    "    dict1 = {}\n",
    "    dict2 = {}\n",
    "    \n",
    "    for i in range(0, len(s)):\n",
    "        if(s[i] in dict1):\n",
    "            dict1[s[i]] += 1\n",
    "        \n",
    "        else:\n",
    "            dict1[s[i]] = 1\n",
    "    \n",
    "    for i in range(0, len(t)):\n",
    "        if(t[i] in dict2):\n",
    "            dict2[t[i]] += 1\n",
    "        \n",
    "        else:\n",
    "            dict2[t[i]] = 1\n",
    "    \n",
    "    count1 = 0;\n",
    "    count2 = 0\n",
    "\n",
    "    \n",
    "    for key in dict1:\n",
    "        if(dict1[key] > count1):\n",
    "            count1 = dict1[key]\n",
    "\n",
    "    \n",
    "    for key in dict2:\n",
    "        if(dict2[key] > count2):\n",
    "            count2 = dict2[key]\n",
    "    \n",
    "    if(count1 == count2):\n",
    "        return \"Neither\"\n",
    "    \n",
    "    if(count1 > count2):\n",
    "        return s\n",
    "    \n",
    "    return t"
   ]
  },
  {
   "cell_type": "code",
   "execution_count": 6,
   "id": "tyGki-fCfRSS",
   "metadata": {
    "id": "tyGki-fCfRSS"
   },
   "outputs": [
    {
     "name": "stdout",
     "output_type": "stream",
     "text": [
      "\n",
      "Question 2\n",
      "===========\n",
      "> Your answer: \ttattered\n",
      "Right Answer: \ttattered\n",
      "> Your answer: \tstands\n",
      "Right Answer: \tstands\n",
      "> Your answer: \tNeither\n",
      "Right Answer: \tNeither\n"
     ]
    }
   ],
   "source": [
    "## Test your function here:\n",
    "print(\"\\nQuestion 2\")\n",
    "print(\"===========\")\n",
    "q2_test1_s = \"noob\"\n",
    "q2_test1_t = \"tattered\"\n",
    "q2_test2_s = \"stands\"\n",
    "q2_test2_t = \"stand\"\n",
    "q2_test3_s = \"book\"\n",
    "q2_test3_t = \"steve\"\n",
    "q2_answer1 = get_more_repeated(q2_test1_s, q2_test1_t)\n",
    "q2_answer2 = get_more_repeated(q2_test2_s, q2_test2_t)\n",
    "q2_answer3 = get_more_repeated(q2_test3_s, q2_test3_t)\n",
    "print(\"> Your answer: \\t\" + str(q2_answer1))\n",
    "print(\"Right Answer: \\ttattered\")\n",
    "print(\"> Your answer: \\t\" + str(q2_answer2))\n",
    "print(\"Right Answer: \\tstands\")\n",
    "print(\"> Your answer: \\t\" + str(q2_answer3))\n",
    "print(\"Right Answer: \\tNeither\")"
   ]
  },
  {
   "cell_type": "markdown",
   "id": "8f3cb84d-e1b7-4c06-adf6-9b7de1a8078e",
   "metadata": {
    "id": "8f3cb84d-e1b7-4c06-adf6-9b7de1a8078e"
   },
   "source": [
    "## Q3 Alphabetical Order (25pt)"
   ]
  },
  {
   "cell_type": "markdown",
   "id": "fhKOxWzodB_J",
   "metadata": {
    "id": "fhKOxWzodB_J"
   },
   "source": [
    "The function takes two strings (s and t) and determines if t is after s in alphabetical order, longer words come after shorter words when otherwise identical. Assume strings are not the same."
   ]
  },
  {
   "cell_type": "code",
   "execution_count": 7,
   "id": "SpJyq9s3dGx6",
   "metadata": {
    "id": "SpJyq9s3dGx6"
   },
   "outputs": [],
   "source": [
    "## Examples:\n",
    "# Input: String s, String t | Output: boolean\n",
    "\n",
    "# e.g. s = \"head\", t = \"headway\" | True\n",
    "#(longer word and identical otherwise)\n",
    "\n",
    "# e.g. s = \"think\", t = \"thought\" | True\n",
    "#(\"thought\" is after \"think\" since ’o’ is after ’i’)\n",
    "\n",
    "# e.g. s = \"zebra\", t = \"alpha\" | False\n",
    "#(’a’ is before ’z’)"
   ]
  },
  {
   "cell_type": "code",
   "execution_count": 8,
   "id": "25b9dca8-7a0b-4949-b03b-4bc7071471d5",
   "metadata": {
    "id": "25b9dca8-7a0b-4949-b03b-4bc7071471d5"
   },
   "outputs": [],
   "source": [
    "## Write down your solutions:\n",
    "def is_alphabetical(s, t):\n",
    "    \n",
    "    i = 0\n",
    "    \n",
    "    while(i < len(s)):\n",
    "        \n",
    "        if(i > len(t)):\n",
    "            return False\n",
    "        \n",
    "        elif(ord(t[i]) > ord(s[i])):\n",
    "            return True\n",
    "        \n",
    "        elif(ord(t[i]) < ord(s[i])):\n",
    "            return False\n",
    "        \n",
    "        i += 1\n",
    "    return True"
   ]
  },
  {
   "cell_type": "code",
   "execution_count": 9,
   "id": "5WDUJInEfVa5",
   "metadata": {
    "id": "5WDUJInEfVa5"
   },
   "outputs": [
    {
     "name": "stdout",
     "output_type": "stream",
     "text": [
      "\n",
      "Question 3\n",
      "===========\n",
      "> Your answer: \tTrue\n",
      "Right Answer: \tTrue\n",
      "> Your answer: \tTrue\n",
      "Right Answer: \tTrue\n",
      "> Your answer: \tFalse\n",
      "Right Answer: \tFalse\n"
     ]
    }
   ],
   "source": [
    "## Test your function here:\n",
    "print(\"\\nQuestion 3\")\n",
    "print(\"===========\")\n",
    "q3_test1_s = \"head\"\n",
    "q3_test1_t = \"headway\"\n",
    "q3_test2_s = \"think\"\n",
    "q3_test2_t = \"thought\"\n",
    "q3_test3_s = \"zebra\"\n",
    "q3_test3_t = \"animal\"\n",
    "q3_answer1 = is_alphabetical(q3_test1_s, q3_test1_t)\n",
    "q3_answer2 = is_alphabetical(q3_test2_s, q3_test2_t)\n",
    "q3_answer3 = is_alphabetical(q3_test3_s, q3_test3_t)\n",
    "print(\"> Your answer: \\t\" + str(q3_answer1))\n",
    "print(\"Right Answer: \\tTrue\")\n",
    "print(\"> Your answer: \\t\" + str(q3_answer2))\n",
    "print(\"Right Answer: \\tTrue\")\n",
    "print(\"> Your answer: \\t\" + str(q3_answer3))\n",
    "print(\"Right Answer: \\tFalse\")"
   ]
  },
  {
   "cell_type": "markdown",
   "id": "800004b2-72d1-4ee0-8af0-60bf07dec72d",
   "metadata": {
    "id": "800004b2-72d1-4ee0-8af0-60bf07dec72d"
   },
   "source": [
    "## Q4 Longest Words (25pt)\n"
   ]
  },
  {
   "cell_type": "markdown",
   "id": "E_OwZKJtdhjd",
   "metadata": {
    "id": "E_OwZKJtdhjd"
   },
   "source": [
    "Takes a string and returns a tuple of longest words in the string. These words should be in the same order as they show in the given sentence. Assume longest words are unique (only show once)."
   ]
  },
  {
   "cell_type": "code",
   "execution_count": 10,
   "id": "w_MiaaHhdlKL",
   "metadata": {
    "id": "w_MiaaHhdlKL"
   },
   "outputs": [],
   "source": [
    "## Examples:\n",
    "# Input: String s | Output: tuple of Strings\n",
    "\n",
    "# e.g. \"I came home from school and went straight to bed.\" | (’straight’)\n",
    "\n",
    "# e.g. \"I read a long book. It was very good.\" | (’read’, ’long’, ’book’, ’very’, ’good’)\n",
    "# (Note: Longest word is 4 characters but there are multiple)"
   ]
  },
  {
   "cell_type": "code",
   "execution_count": 11,
   "id": "792fa17f-0a0f-4321-a6f1-6efb3499715a",
   "metadata": {
    "id": "792fa17f-0a0f-4321-a6f1-6efb3499715a"
   },
   "outputs": [],
   "source": [
    "## Write down your solutions:\n",
    "import re\n",
    "def get_longest_word(s):\n",
    "    \n",
    "    words = []\n",
    "    count = 0\n",
    "    pattern = r'[^A-Za-z]+'\n",
    "    \n",
    "    for word in s.split():\n",
    "        temp = re.sub(pattern, '', word)\n",
    "        if(len(temp) > count):\n",
    "            words = []\n",
    "            count = len(temp)\n",
    "            words.append((temp))\n",
    "        \n",
    "        elif(len(temp) == count):\n",
    "            words.append(temp)\n",
    "    \n",
    "    return words"
   ]
  },
  {
   "cell_type": "code",
   "execution_count": 12,
   "id": "YHpejTwLfZdu",
   "metadata": {
    "id": "YHpejTwLfZdu"
   },
   "outputs": [
    {
     "name": "stdout",
     "output_type": "stream",
     "text": [
      "\n",
      "Question 4\n",
      "===========\n",
      "> Your answer: \t['straight']\n",
      "Right Answer: \t['straight']\n",
      "> Your answer: \t['read', 'long', 'book', 'very', 'good']\n",
      "Right Answer: \t['read', 'long', 'book', 'very', 'good']\n"
     ]
    }
   ],
   "source": [
    "## Test your functions here\n",
    "print(\"\\nQuestion 4\")\n",
    "print(\"===========\")\n",
    "q4_test1 = \"I came home from school and went straight to bed.\"\n",
    "q4_test2 = \"I read a long book. It was very good.\"\n",
    "q4_answer1 = get_longest_word(q4_test1)\n",
    "q4_answer2 = get_longest_word(q4_test2)\n",
    "print(\"> Your answer: \\t\" + str(q4_answer1))\n",
    "print(\"Right Answer: \\t['straight']\")\n",
    "print(\"> Your answer: \\t\" + str(q4_answer2))\n",
    "print(\"Right Answer: \\t['read', 'long', 'book', 'very', 'good']\")"
   ]
  },
  {
   "cell_type": "code",
   "execution_count": null,
   "id": "200dff1b",
   "metadata": {},
   "outputs": [],
   "source": []
  }
 ],
 "metadata": {
  "colab": {
   "provenance": []
  },
  "kernelspec": {
   "display_name": "Python 3 (ipykernel)",
   "language": "python",
   "name": "python3"
  },
  "language_info": {
   "codemirror_mode": {
    "name": "ipython",
    "version": 3
   },
   "file_extension": ".py",
   "mimetype": "text/x-python",
   "name": "python",
   "nbconvert_exporter": "python",
   "pygments_lexer": "ipython3",
   "version": "3.9.7"
  }
 },
 "nbformat": 4,
 "nbformat_minor": 5
}
