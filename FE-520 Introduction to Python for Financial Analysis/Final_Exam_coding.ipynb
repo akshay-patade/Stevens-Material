{
 "cells": [
  {
   "cell_type": "markdown",
   "metadata": {
    "id": "VKGx7mOxmBtH"
   },
   "source": [
    "# FE520C Final Exam Coding Part"
   ]
  },
  {
   "cell_type": "markdown",
   "metadata": {
    "id": "GZzftMovmLZb"
   },
   "source": [
    "### Question 1 (25pt)"
   ]
  },
  {
   "cell_type": "markdown",
   "metadata": {
    "id": "_qAujHkgmXFg"
   },
   "source": [
    "Design a Portfolio Management System using Python classes that can manage multiple financial assets and calculate portfolio performance. Implement the following classes:\n",
    "\n",
    "1. `Asset`: Represents a financial asset in the portfolio. Each asset should have the following attributes: `ticker`, `quantity`, `purchase_price`, and `current_price`.\n",
    "\n",
    "2. `Portfolio`: Represents a collection of financial assets. It should have the following functionality:\n",
    "\n",
    "   - `add_asset(self, asset: Asset)`: Adds an asset to the portfolio.\n",
    "   - `update_price(self, ticker: str, new_price: float)`: Updates the current price of an asset in the portfolio.\n",
    "   - `total_investment(self)`: Returns the total investment made in the portfolio. (quantity * purchase_price)\n",
    "   - `total_current_value(self)`: Returns the total current value of the portfolio. (quantity * current_price)\n",
    "   - `asset_return(self, ticker: str)`: Returns the individual return of an asset in the portfolio.\n",
    "   - `total_return(self)`: Returns the total return of the portfolio.\n",
    "   - `weighted_return(self)`: Returns the weighted return of the portfolio.\n",
    "\n",
    "Assume that the individual return of an asset is calculated as `(current_price - purchase_price) / purchase_price` and the weighted return of the portfolio is the average of individual asset returns, weighted by their current value in the portfolio."
   ]
  },
  {
   "cell_type": "code",
   "execution_count": 3,
   "metadata": {
    "id": "7Bux02KlmKhM"
   },
   "outputs": [],
   "source": [
    "class Asset:\n",
    "    def __init__(self, ticker: str, quantity: int, purchase_price: float, current_price: float):\n",
    "        self.ticker = ticker\n",
    "        self.quantity = quantity\n",
    "        self.purchase_price = purchase_price\n",
    "        self.current_price = current_price\n",
    "\n",
    "    def individual_return(self) -> float:\n",
    "        return (self.current_price - self.purchase_price) / self.purchase_price\n",
    "\n",
    "\n",
    "class Portfolio:\n",
    "    def __init__(self):\n",
    "        self.assets = {}\n",
    "\n",
    "    def add_asset(self, asset: Asset):\n",
    "        self.assets[asset.ticker] = asset\n",
    "\n",
    "    def update_price(self, ticker: str, new_price: float):\n",
    "        self.assets[ticker].current_price = new_price\n",
    "\n",
    "    def total_investment(self) -> float:\n",
    "        return sum(asset.quantity * asset.purchase_price for asset in self.assets.values())\n",
    "\n",
    "    def total_current_value(self) -> float:\n",
    "        return sum(asset.quantity * asset.current_price for asset in self.assets.values())\n",
    "\n",
    "    def asset_return(self, ticker: str) -> float:\n",
    "        return self.assets[ticker].individual_return()\n",
    "\n",
    "    def total_return(self) -> float:\n",
    "        return (self.total_current_value() - self.total_investment()) / self.total_investment()\n",
    "\n",
    "    def weighted_return(self) -> float:\n",
    "        total_value = self.total_current_value()\n",
    "        weighted_returns = [asset.individual_return() * asset.quantity * asset.current_price / total_value\n",
    "                            for asset in self.assets.values()]\n",
    "        return sum(weighted_returns)"
   ]
  },
  {
   "cell_type": "code",
   "execution_count": 2,
   "metadata": {
    "id": "fvY8xCjNmKso"
   },
   "outputs": [
    {
     "name": "stdout",
     "output_type": "stream",
     "text": [
      "Total Investment: 8900\n",
      "Total Current Value: 9200\n",
      "AAPL Return: 0.13333333333333333\n",
      "Total Portfolio Return: 0.033707865168539325\n",
      "Weighted Portfolio Return: 0.04818840579710145\n",
      "Updated AAPL Return: 0.2\n",
      "Updated Total Portfolio Return: 0.0449438202247191\n",
      "Updated Weighted Portfolio Return: 0.06200716845878137\n"
     ]
    }
   ],
   "source": [
    "# Example:\n",
    "\n",
    "asset1 = Asset(\"AAPL\", 10, 150, 170)\n",
    "asset2 = Asset(\"GOOG\", 5, 1000, 1100)\n",
    "asset3 = Asset(\"TSLA\", 8, 300, 250)\n",
    "\n",
    "portfolio = Portfolio()\n",
    "portfolio.add_asset(asset1)\n",
    "portfolio.add_asset(asset2)\n",
    "portfolio.add_asset(asset3)\n",
    "\n",
    "print(\"Total Investment:\", portfolio.total_investment())\n",
    "print(\"Total Current Value:\", portfolio.total_current_value())\n",
    "print(\"AAPL Return:\", portfolio.asset_return(\"AAPL\"))\n",
    "print(\"Total Portfolio Return:\", portfolio.total_return())\n",
    "print(\"Weighted Portfolio Return:\", portfolio.weighted_return())\n",
    "\n",
    "portfolio.update_price(\"AAPL\", 180)\n",
    "print(\"Updated AAPL Return:\", portfolio.asset_return(\"AAPL\"))\n",
    "print(\"Updated Total Portfolio Return:\", portfolio.total_return())\n",
    "print(\"Updated Weighted Portfolio Return:\", portfolio.weighted_return())"
   ]
  },
  {
   "cell_type": "markdown",
   "metadata": {
    "id": "wGRS_LvirJPU"
   },
   "source": [
    "Expected solution:\n",
    "\n",
    "Total Investment: 8900\n",
    "\n",
    "Total Current Value: 9200\n",
    "\n",
    "AAPL Return: 0.13333333333333333\n",
    "\n",
    "Total Portfolio Return: 0.033707865168539325\n",
    "\n",
    "Weighted Portfolio Return: 0.04818840579710145\n",
    "\n",
    "Updated AAPL Return: 0.2\n",
    "\n",
    "Updated Total Portfolio Return: 0.0449438202247191\n",
    "\n",
    "Updated Weighted Portfolio Return: 0.06200716845878137"
   ]
  },
  {
   "cell_type": "markdown",
   "metadata": {
    "id": "JEqu3JbwnkVu"
   },
   "source": [
    "### Question 2 (25pt)"
   ]
  },
  {
   "cell_type": "markdown",
   "metadata": {
    "id": "RF9Yp0Den7Uv"
   },
   "source": [
    "Problem:\n",
    "\n",
    "You are given a list of integers, and you need to calculate the sum of squares of the even numbers and the sum of cubes of the odd numbers.\n",
    "\n",
    "Write a Python function called `calculate_sums(lst: List[int]) -> Tuple[int, int]` that takes a list of integers as input and returns a tuple with two integers. The first integer in the tuple is the sum of squares of the even numbers, and the second integer is the sum of cubes of the odd numbers. (12pt)"
   ]
  },
  {
   "cell_type": "code",
   "execution_count": 4,
   "metadata": {
    "id": "HRMTVpXCogxG"
   },
   "outputs": [],
   "source": [
    "from typing import List, Tuple\n",
    "\n",
    "def calculate_sums(lst: List[int]) -> Tuple[int, int]:\n",
    "    sum_of_squares = 0\n",
    "    sum_of_cubes = 0\n",
    "    \n",
    "    for num in lst:\n",
    "        if num % 2 == 0:\n",
    "            sum_of_squares += num ** 2\n",
    "        else:\n",
    "            sum_of_cubes += num ** 3\n",
    "    \n",
    "    return (sum_of_squares, sum_of_cubes)    "
   ]
  },
  {
   "cell_type": "code",
   "execution_count": 5,
   "metadata": {
    "id": "7STqPgBFnn7Z"
   },
   "outputs": [
    {
     "name": "stdout",
     "output_type": "stream",
     "text": [
      "(56, 153)\n"
     ]
    }
   ],
   "source": [
    "# Example usage:\n",
    "lst = [1, 2, 3, 4, 5, 6]\n",
    "result = calculate_sums(lst)\n",
    "print(result)"
   ]
  },
  {
   "cell_type": "code",
   "execution_count": 3,
   "metadata": {
    "id": "ZX7Cw_3DoooM"
   },
   "outputs": [],
   "source": []
  },
  {
   "cell_type": "markdown",
   "metadata": {
    "id": "mcYIdjyeopE2"
   },
   "source": [
    "(2) Create a class `Circle` with the following requirements:\n",
    "\n",
    "1. It should have an instance variable `radius` with a default value of 1.\n",
    "2. The class should have a method `area()` that returns the area of the circle.\n",
    "3. The class should have a method `circumference()` that returns the circumference of the circle.\n",
    "\n",
    "Note: You can use the value of pi as 3.14159 or import it from the `math` module. (12pt)"
   ]
  },
  {
   "cell_type": "code",
   "execution_count": 6,
   "metadata": {
    "id": "TcCw9Lhoo_gT"
   },
   "outputs": [],
   "source": [
    "import math\n",
    "\n",
    "class Circle:\n",
    "    def __init__(self, radius=1):\n",
    "        self.radius = radius\n",
    "        \n",
    "    def area(self):\n",
    "        return math.pi * (self.radius ** 2)\n",
    "    \n",
    "    def circumference(self):\n",
    "        return 2 * math.pi * self.radius"
   ]
  },
  {
   "cell_type": "code",
   "execution_count": 7,
   "metadata": {
    "id": "suBC4jqEpSkC"
   },
   "outputs": [
    {
     "name": "stdout",
     "output_type": "stream",
     "text": [
      "Area: 78.53981633974483\n",
      "Circumference: 31.41592653589793\n"
     ]
    }
   ],
   "source": [
    "# Example usage:\n",
    "circle = Circle(5)\n",
    "print(\"Area:\", circle.area())\n",
    "print(\"Circumference:\", circle.circumference())"
   ]
  },
  {
   "cell_type": "code",
   "execution_count": null,
   "metadata": {},
   "outputs": [],
   "source": []
  }
 ],
 "metadata": {
  "colab": {
   "provenance": []
  },
  "kernelspec": {
   "display_name": "Python 3 (ipykernel)",
   "language": "python",
   "name": "python3"
  },
  "language_info": {
   "codemirror_mode": {
    "name": "ipython",
    "version": 3
   },
   "file_extension": ".py",
   "mimetype": "text/x-python",
   "name": "python",
   "nbconvert_exporter": "python",
   "pygments_lexer": "ipython3",
   "version": "3.9.7"
  }
 },
 "nbformat": 4,
 "nbformat_minor": 1
}
