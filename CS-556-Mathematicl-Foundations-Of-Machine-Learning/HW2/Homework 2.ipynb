{
 "cells": [
  {
   "cell_type": "markdown",
   "metadata": {
    "id": "qqFz8q2aBAaI"
   },
   "source": [
    "### Name : Akshay Pradeep Patade\n",
    "### CWID : 20009092\n",
    "### email:  apatade@stevens.edu\n",
    " "
   ]
  },
  {
   "cell_type": "markdown",
   "metadata": {
    "id": "eX-chuuQBCYd"
   },
   "source": [
    "##### **Collaboration Policy.** Homeworks will be done individually: each student must hand in their own answers. Use of partial or entire solutions obtained from others or online is strictly prohibited."
   ]
  },
  {
   "cell_type": "markdown",
   "metadata": {
    "id": "H3zIb922BI1-"
   },
   "source": [
    "### **Late Policy.** Late submission have a penalty of 2\\% for each passing hour. "
   ]
  },
  {
   "cell_type": "markdown",
   "metadata": {
    "id": "wE-r6CEqBL9B"
   },
   "source": [
    "##### **Submission format** :  Complete this jupyter notebook to successfully implement recommender systems on the Movie Lens Dataset. Submit a .py file for this notebook along with the notebook. Go to file -> download as -> python (.py)\n",
    "\n",
    "##### Only submit one .ipynb file and one .py file. The .ipynb file should have answers to all the questions. Do not .zip/.rar files for submission. "
   ]
  },
  {
   "cell_type": "markdown",
   "metadata": {},
   "source": [
    "##### Download the dataset from the link - https://grouplens.org/datasets/movielens/1m/"
   ]
  },
  {
   "cell_type": "code",
   "execution_count": 1,
   "metadata": {
    "id": "tN1MfGEiA5Ph"
   },
   "outputs": [],
   "source": [
    "# Import all the required libraries\n",
    "import numpy as np\n",
    "import pandas as pd\n",
    "import operator"
   ]
  },
  {
   "cell_type": "markdown",
   "metadata": {
    "id": "u2Ek6nbDBW6A"
   },
   "source": [
    "## Read the Dataset using read_csv function from Pandas\n"
   ]
  },
  {
   "cell_type": "code",
   "execution_count": 2,
   "metadata": {
    "id": "0SlBNEl6BU4o"
   },
   "outputs": [],
   "source": [
    "## Read the dataset from the two files into ratings_data, movies_data and user_data\n",
    "ratings_data = pd.read_csv('ratings.dat',header = None, sep ='::',engine='python',names=['user_id','movie_id','Ratings','TimeStamp'])\n",
    "#ratings_data.head()\n",
    "\n",
    "movies_data = pd.read_csv('movies.dat',header = None, sep=\"::\",engine ='python',names=['movie_id','Title','Genres'],encoding = \"ISO-8859-1\")\n",
    "# movies_data\n",
    "\n",
    "user_data = pd.read_csv('users.dat',header = None, sep ='::',engine='python',names=['user_id','Gender','Age','ID','ZipCode'])\n",
    "#user_data"
   ]
  },
  {
   "cell_type": "markdown",
   "metadata": {
    "id": "Zg1S4qF6BbHC"
   },
   "source": [
    "## Use <b>Numpy</b> to create a ratings data matrix. <b>Print the shape</b> of the matrix"
   ]
  },
  {
   "cell_type": "code",
   "execution_count": 3,
   "metadata": {
    "id": "SXEfC9vCBbUW"
   },
   "outputs": [
    {
     "name": "stdout",
     "output_type": "stream",
     "text": [
      "Shape of the matrix is (3952, 6040)\n"
     ]
    }
   ],
   "source": [
    "m = movies_data['movie_id'].max()\n",
    "n = user_data['user_id'].max()\n",
    "\n",
    "ratings_data_matrix = np.zeros((m,n),dtype = int)\n",
    "\n",
    "ratings_data_matrix_1 = ratings_data.to_numpy()\n",
    "\n",
    "for i in range (0,len(ratings_data_matrix_1)):\n",
    "    user_id, movie_id, ratings = ratings_data_matrix_1[i,0] - 1, ratings_data_matrix_1[i,1] - 1, ratings_data_matrix_1[i,2]\n",
    "    ratings_data_matrix[movie_id][user_id] = ratings\n",
    "\n",
    "print(\"Shape of the matrix is \" +str(ratings_data_matrix.shape))"
   ]
  },
  {
   "cell_type": "markdown",
   "metadata": {
    "id": "oItkwdwkBbhJ"
   },
   "source": [
    "## Normalize the Ratings Data matrix"
   ]
  },
  {
   "cell_type": "code",
   "execution_count": 4,
   "metadata": {
    "id": "vH7Sl8O-Bbvt"
   },
   "outputs": [],
   "source": [
    "mean_array = ratings_data_matrix.mean(axis = 0)\n",
    "# print(mean_array[0])\n",
    "standard_deviation_array = ratings_data_matrix.std(axis = 0)\n",
    "# mean_array.shape\n",
    "# standard_deviation_array.shape\n",
    "ratings_data_matrix = (ratings_data_matrix - mean_array) / standard_deviation_array\n",
    "# print(ratings_data_matrix)\n",
    "# print(ratings_data_matrix)\n",
    "     \n",
    "# # scaler = StandardScaler()\n",
    "# ratings_data_matrix_2 = preprocessing.normalize(ratings_data_matrix, axis = 0)\n",
    "# print(ratings_data_matrix_2)"
   ]
  },
  {
   "cell_type": "markdown",
   "metadata": {
    "id": "uZJ5_ZBqBb9g"
   },
   "source": [
    "## Use the SVD function from numpy to perform SVD on the normalised ratings data matrix. Print the shapes of U, S, V matrices."
   ]
  },
  {
   "cell_type": "code",
   "execution_count": 5,
   "metadata": {
    "id": "EcCQn4_VBcLD"
   },
   "outputs": [
    {
     "name": "stdout",
     "output_type": "stream",
     "text": [
      "Shape of U is (3952, 3952)\n",
      "Shape of S is (3952,)\n",
      "Shape of V is (6040, 6040)\n"
     ]
    }
   ],
   "source": [
    "u, s, vtranspose = np.linalg.svd(ratings_data_matrix)\n",
    "print(\"Shape of U is \"+str(u.shape))\n",
    "print(\"Shape of S is \"+str(s.shape))\n",
    "print(\"Shape of V is \"+str(vtranspose.shape))\n",
    "# print(u)\n",
    "# print(s)\n",
    "# print(vtranspose)"
   ]
  },
  {
   "cell_type": "markdown",
   "metadata": {},
   "source": [
    "## Explain the differences between Cosine similarity and Euclidean distance. What are they and what do they do? Which one is better for movie recommendation and why?"
   ]
  },
  {
   "cell_type": "markdown",
   "metadata": {},
   "source": [
    "Cosine similarity is a measurement technique which is used to measure the angles betweeen the two vectors. This technique is used to check the similarity between the two vectors. Two vectors will be similar if the angle between the two vectors is minimal. For example if the angle between the two vectors is 90 degress therefore its cosine similarity will be zero indicating that the two vectors are perpendicular to each other and they are not similar. Formula for cosine similarity is cos(theta) = a . b / ||a|| ||b|| where a and b are the two vectors in the multidimensional space.\n",
    "\n",
    "Euclidean distance is used to measure the distance between the two vectors which are present in the euclidean space.It is given by the formula square root of (x1-x2) square + (y1-y2) square where x1 & x2 are the coordinates of the two vectors in x coordinate and y1-y2 are the coordinates of the two vectors in y vecotrs.\n",
    "\n",
    "Difference Between Cosine Similarity & Euclidean distance.\n",
    "Cosine similarity measures the angle between two vectors whereas euclidean measure the distance between two vectors.\n",
    "\n",
    "Cosine similarity is better for movie recommendation because we have a text data given to us and we won't be able to find any pattern if we apply euclidean distance.The cosine similarity is advantageous because, despite the fact that the two comparable data objects are separated by the Euclidean distance due to their size, they may have a smaller angle between them. The greater the resemblance, the smaller the angle.\n"
   ]
  },
  {
   "cell_type": "markdown",
   "metadata": {
    "id": "ONJoM2nRBuLt"
   },
   "source": [
    "### Based on cosine similarity and the matrix decomposition from SVD, sort the movies which are most similar and return the top 5 movies that match a given a movie title"
   ]
  },
  {
   "cell_type": "code",
   "execution_count": 6,
   "metadata": {
    "id": "TpTlJLHKBzU_"
   },
   "outputs": [],
   "source": [
    "def cosine_similarity(data, movie_id, top_n):\n",
    "    index = movie_id - 1 #\n",
    "    movie_row = reduced_data[index, :]\n",
    "    magnitude = np.sqrt(np.einsum('ij, ij -> i', reduced_data, reduced_data))\n",
    "    similarity = np.dot(movie_row, reduced_data.T) / (magnitude[index] * magnitude)\n",
    "    sort_indexes = np.argsort(-similarity)\n",
    "    return sort_indexes[:top_n]"
   ]
  },
  {
   "cell_type": "code",
   "execution_count": 7,
   "metadata": {},
   "outputs": [],
   "source": [
    "def print_similar_movies(movie_data, movie_id, top_indexes):\n",
    "    print('Recommendations for {0}: \\n'.format(\n",
    "    movie_data[movie_data.movie_id == movie_id].Title.values))\n",
    "    for id in top_indexes + 1:\n",
    "        print(movie_data[movie_data.movie_id == id].Title.values)"
   ]
  },
  {
   "cell_type": "code",
   "execution_count": 10,
   "metadata": {},
   "outputs": [
    {
     "name": "stdout",
     "output_type": "stream",
     "text": [
      "Recommendations for ['American President, The (1995)']: \n",
      "\n",
      "['American President, The (1995)']\n",
      "['Band of the Hand (1986)']\n",
      "['Haunting, The (1999)']\n",
      "['Bay of Blood (Reazione a catena) (1971)']\n",
      "['Suspicion (1941)']\n"
     ]
    }
   ],
   "source": [
    "k = 100\n",
    "\n",
    "movie_title=  'American President, The (1995)'\n",
    "movie = movies_data[movies_data.Title == movie_title]\n",
    "\n",
    "movie_id = int(movie['movie_id'])\n",
    "\n",
    "\n",
    "n = 5\n",
    "reduced_data= vtranspose[:, :k]\n",
    "indexes = cosine_similarity(reduced_data, movie_id, n)\n",
    "print_similar_movies(movies_data,movie_id,indexes)"
   ]
  },
  {
   "cell_type": "code",
   "execution_count": null,
   "metadata": {},
   "outputs": [],
   "source": []
  },
  {
   "cell_type": "code",
   "execution_count": null,
   "metadata": {},
   "outputs": [],
   "source": []
  }
 ],
 "metadata": {
  "colab": {
   "collapsed_sections": [],
   "name": "Assignment 2 Questions - Part 2.ipynb",
   "provenance": []
  },
  "kernelspec": {
   "display_name": "Python 3 (ipykernel)",
   "language": "python",
   "name": "python3"
  },
  "language_info": {
   "codemirror_mode": {
    "name": "ipython",
    "version": 3
   },
   "file_extension": ".py",
   "mimetype": "text/x-python",
   "name": "python",
   "nbconvert_exporter": "python",
   "pygments_lexer": "ipython3",
   "version": "3.9.7"
  }
 },
 "nbformat": 4,
 "nbformat_minor": 1
}
