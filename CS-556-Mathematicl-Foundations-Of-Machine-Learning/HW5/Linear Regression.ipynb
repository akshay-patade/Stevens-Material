{
 "cells": [
  {
   "cell_type": "markdown",
   "metadata": {},
   "source": [
    "### Questions\n",
    "\n",
    "Dataset : https://www.kaggle.com/uciml/pima-indians-diabetes-database\n",
    "\n",
    "1. Split the dataset (80, 20) into training and testing set.\n",
    "2. Train a Linear Regression model to predict \"BMI\" using all other features available in the dataset.\n",
    "3. Plot the \"Cost function vs Iterations\" curve.\n",
    "4. Perform greedy search to find optimal learning rate.  \n",
    "5. Plot the \"Predicted BMI value($\\hat{Y}_i$)\" vs \"Actual BMI value(${Y}_i$)\" curve (Scatter Plot).\n",
    "6. Perform PCA on the dataset and reduce the dimensionality to 2 and train a new model on these newly obtained features.\n",
    "7. Plot the \"Cost function vs Iterations\" curve for this new model.\n",
    "8. Plot the \"Predicted BMI value($\\hat{Y}_i$) of the new model\" vs \"Actual BMI value(${Y}_i$)\" curve(it is a scatter plot)\n",
    "9. Show the scatter plot of PCA generated new features and also show the linear regression curve that you got from new model.\n",
    "\n",
    "**You can use libraries to solve these questions**"
   ]
  },
  {
   "attachments": {
    "400px-Linear_regression.svg.png": {
     "image/png": "[encoded data removed]"
    }
   },
   "cell_type": "markdown",
   "metadata": {},
   "source": [
    "Sample plot for 8th step\n",
    "![400px-Linear_regression.svg.png](attachment:400px-Linear_regression.svg.png)"
   ]
  },
  {
   "cell_type": "code",
   "execution_count": 3,
   "metadata": {},
   "outputs": [],
   "source": [
    "# import all nececssary libraries\n",
    "# split the dataset into train and test set"
   ]
  },
  {
   "cell_type": "code",
   "execution_count": null,
   "metadata": {},
   "outputs": [],
   "source": [
    "# Train a Linear Regression model to predict \"BMI\" using all other features avaiable in the dataset"
   ]
  },
  {
   "cell_type": "code",
   "execution_count": null,
   "metadata": {},
   "outputs": [],
   "source": [
    "# Plot the \"cost function vs iterations\" curve"
   ]
  },
  {
   "cell_type": "code",
   "execution_count": null,
   "metadata": {},
   "outputs": [],
   "source": [
    "# perform greedy search to find optimal learning rate.  "
   ]
  },
  {
   "cell_type": "code",
   "execution_count": 1,
   "metadata": {},
   "outputs": [],
   "source": [
    "# plot the \"Predicted BMI value( 𝑌̂ 𝑖 )\" vs \"Actual BMI value( 𝑌𝑖 )\" curve(it is a scatter plot)"
   ]
  },
  {
   "cell_type": "code",
   "execution_count": null,
   "metadata": {},
   "outputs": [],
   "source": [
    "# perform PCA on the dataset and reduce the dimensionality to 2 and train a new model on these newly obtained features."
   ]
  },
  {
   "cell_type": "code",
   "execution_count": null,
   "metadata": {},
   "outputs": [],
   "source": [
    "# plot the \"cost function vs iterations\" curve for this new model."
   ]
  },
  {
   "cell_type": "code",
   "execution_count": null,
   "metadata": {},
   "outputs": [],
   "source": [
    "# plot the \"Predicted BMI value( 𝑌̂ 𝑖 ) of the new model\" vs \"Actual BMI value( 𝑌𝑖 )\" curve(it is a scatter plot)"
   ]
  },
  {
   "cell_type": "code",
   "execution_count": 1,
   "metadata": {},
   "outputs": [],
   "source": [
    "# show the scatter plot of PCA generated new features and also show the linear regression curve that you got from new model."
   ]
  }
 ],
 "metadata": {
  "kernelspec": {
   "display_name": "Python 3",
   "language": "python",
   "name": "python3"
  },
  "language_info": {
   "codemirror_mode": {
    "name": "ipython",
    "version": 3
   },
   "file_extension": ".py",
   "mimetype": "text/x-python",
   "name": "python",
   "nbconvert_exporter": "python",
   "pygments_lexer": "ipython3",
   "version": "3.8.3"
  }
 },
 "nbformat": 4,
 "nbformat_minor": 5
}
