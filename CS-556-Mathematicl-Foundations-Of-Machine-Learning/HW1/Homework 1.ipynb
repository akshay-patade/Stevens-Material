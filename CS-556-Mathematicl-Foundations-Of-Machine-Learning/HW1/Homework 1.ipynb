{
 "cells": [
  {
   "cell_type": "markdown",
   "id": "dbdd8c32",
   "metadata": {
    "id": "8a5767cf"
   },
   "source": [
    "# Part 1 - NumPy Assignment"
   ]
  },
  {
   "cell_type": "markdown",
   "id": "9540e7c7",
   "metadata": {},
   "source": [
    "#### Follow the instructions provided and complete the code provided in the code cells to answer each question. Every question must be solved using numpy. No manually hardcoded solutions will be accepted."
   ]
  },
  {
   "cell_type": "markdown",
   "id": "9b4184ec",
   "metadata": {
    "id": "b6b7301c"
   },
   "source": [
    "#### Import numpy (no other libraries are necessary to complete this assignment)"
   ]
  },
  {
   "cell_type": "code",
   "execution_count": 1,
   "id": "aba80b9b",
   "metadata": {
    "id": "6d955bc5"
   },
   "outputs": [],
   "source": [
    "import numpy as np"
   ]
  },
  {
   "cell_type": "markdown",
   "id": "99443a30",
   "metadata": {
    "id": "00f58ce0"
   },
   "source": [
    "#### Question 1\n",
    "Create a 2 dimensional array that has the following elements:\\\n",
    "Row 1: 0 1 3 7\\\n",
    "Row 2: 4 8 0 2"
   ]
  },
  {
   "cell_type": "markdown",
   "id": "be8225ae",
   "metadata": {
    "id": "3e3df35a"
   },
   "source": [
    "Print the array along with it's shape"
   ]
  },
  {
   "cell_type": "code",
   "execution_count": 2,
   "id": "6616e341",
   "metadata": {
    "id": "6066ede6"
   },
   "outputs": [
    {
     "name": "stdout",
     "output_type": "stream",
     "text": [
      "The array is:\n",
      " [[0 1 3 7]\n",
      " [4 8 0 2]]\n",
      "The shape of the array is: (2, 4)\n"
     ]
    }
   ],
   "source": [
    "firstarray = np.array([[0,1,3,7],[4,8,0,2]])\n",
    "firstarray_shape = np.shape(firstarray)\n",
    "print(\"The array is:\\n\", firstarray)\n",
    "print(\"The shape of the array is:\", firstarray_shape)"
   ]
  },
  {
   "cell_type": "markdown",
   "id": "7812c1c7",
   "metadata": {
    "id": "7efa1c97"
   },
   "source": [
    "#### Question 2\n",
    "\n",
    "Perform the following operations and print each result(all operations must be done using the numpy library):\n",
    "1. Find the number of non-zero elements in your array\n",
    "2. Delete the numbers at index 2 and index 4 in your array (HINT: your array will be flattened, convert it into a 2x3 matrix {2D Array})\n",
    "3. Use the same array from Qs 2. and insert the number '5' at index 2 and the number '9' at index 4 in your array (HINT: your array will be flattened, convert it into a 2x4 matrix {2D Array})\n",
    "4. Print the magnitude of vector 1 [0, 1, 3, 7] and vector 2 [4, 8, 0, 2] in your array"
   ]
  },
  {
   "cell_type": "code",
   "execution_count": 3,
   "id": "0b0c891e",
   "metadata": {
    "id": "3acf6176"
   },
   "outputs": [
    {
     "name": "stdout",
     "output_type": "stream",
     "text": [
      "The number of non zero elements in the array are: 6\n"
     ]
    }
   ],
   "source": [
    "non_zero_elements = np.count_nonzero(firstarray)\n",
    "print(\"The number of non zero elements in the array are:\", non_zero_elements)"
   ]
  },
  {
   "cell_type": "code",
   "execution_count": 4,
   "id": "1a925766",
   "metadata": {
    "id": "0e045388"
   },
   "outputs": [
    {
     "name": "stdout",
     "output_type": "stream",
     "text": [
      "The array after deleting the elements at index 2 and 4 is:\n",
      " [[0 1 7]\n",
      " [8 0 2]]\n"
     ]
    }
   ],
   "source": [
    "#Index 0 is considered as the first element\n",
    "array_after_delete = np.delete(firstarray.reshape(1,8),[2,4]).reshape(2,3)\n",
    "print(\"The array after deleting the elements at index 2 and 4 is:\\n\", array_after_delete)"
   ]
  },
  {
   "cell_type": "code",
   "execution_count": 5,
   "id": "87622f64",
   "metadata": {
    "id": "57c18ad5"
   },
   "outputs": [
    {
     "name": "stdout",
     "output_type": "stream",
     "text": [
      "The array after inserting 5 and 9 is:\n",
      " [[0 1 5 7]\n",
      " [8 9 0 2]]\n"
     ]
    }
   ],
   "source": [
    "#Index 0 is considered as the first element\n",
    "array_after_insert = np.insert(array_after_delete.reshape(1,6),[2,4],[5,9]).reshape(2,4)\n",
    "print(\"The array after inserting 5 and 9 is:\\n\", array_after_insert)"
   ]
  },
  {
   "cell_type": "code",
   "execution_count": 6,
   "id": "2e921927",
   "metadata": {
    "id": "4fbb9e57"
   },
   "outputs": [
    {
     "name": "stdout",
     "output_type": "stream",
     "text": [
      "The magnitude of vector 1 is = 7.681145747868608\n"
     ]
    }
   ],
   "source": [
    "mag_of_vector1 = np.linalg.norm(np.array([0,1,3,7]))\n",
    "print(\"The magnitude of vector 1 is =\", mag_of_vector1)"
   ]
  },
  {
   "cell_type": "code",
   "execution_count": 7,
   "id": "1bc4fa81",
   "metadata": {
    "id": "2807fe34"
   },
   "outputs": [
    {
     "name": "stdout",
     "output_type": "stream",
     "text": [
      "The magnitude of vector 2 is = 9.16515138991168\n"
     ]
    }
   ],
   "source": [
    "mag_of_vector2 = np.linalg.norm(np.array([4,8,0,2]))\n",
    "print(\"The magnitude of vector 2 is =\", mag_of_vector2)"
   ]
  },
  {
   "cell_type": "markdown",
   "id": "37a3be3a",
   "metadata": {
    "id": "df5c3c3a"
   },
   "source": [
    "#### Question 3\n",
    "\n",
    "These questions will focus on the the linear algebra functions of the numpy library.\n",
    "\n",
    "1. Create 2 2x2 matrices : Matrix 1 = [[4, 3], [2, 6]] and Matrix 2 = [[6, 5], [7, 8]]\n",
    "2. Find and print the determinants of both these matrices (Round it off to the nearest whole number)\n",
    "3. Multiply both the matrices and print the result\n",
    "4. Sort the result from the dot product along the first axis and print the resulting matrix\n",
    "5. Find the transpose of both the matrices and print the results"
   ]
  },
  {
   "cell_type": "code",
   "execution_count": 8,
   "id": "0df77df5",
   "metadata": {
    "id": "5ddb0836"
   },
   "outputs": [
    {
     "name": "stdout",
     "output_type": "stream",
     "text": [
      "The first matrix is:\n",
      " [[4 3]\n",
      " [2 6]]\n",
      "\n",
      "The second matrix is:\n",
      " [[6 5]\n",
      " [7 8]]\n"
     ]
    }
   ],
   "source": [
    "matrix1 = np.array([[4,3],[2,6]])\n",
    "matrix2 = np.array([[6,5],[7,8]])\n",
    "\n",
    "print(\"The first matrix is:\\n\", matrix1)\n",
    "print(\"\\nThe second matrix is:\\n\", matrix2)"
   ]
  },
  {
   "cell_type": "code",
   "execution_count": 9,
   "id": "1011b20a",
   "metadata": {
    "id": "21fccd73"
   },
   "outputs": [
    {
     "name": "stdout",
     "output_type": "stream",
     "text": [
      "The determinant of matrix 1 is: 18.0\n",
      "The determinant of matrix 2 is: 13.0\n"
     ]
    }
   ],
   "source": [
    "det_1 = np.linalg.det(matrix1).round()\n",
    "det_2 = np.linalg.det(matrix2).round()\n",
    "\n",
    "print(\"The determinant of matrix 1 is:\", det_1)\n",
    "print(\"The determinant of matrix 2 is:\", det_2)"
   ]
  },
  {
   "cell_type": "code",
   "execution_count": 10,
   "id": "d2eb7dde",
   "metadata": {
    "id": "381184b0"
   },
   "outputs": [
    {
     "name": "stdout",
     "output_type": "stream",
     "text": [
      "The dot product of the 2 matrices is:\n",
      " [[45 44]\n",
      " [54 58]]\n"
     ]
    }
   ],
   "source": [
    "dot_product = np.dot(matrix1,matrix2)\n",
    "\n",
    "print(\"The dot product of the 2 matrices is:\\n\", dot_product)"
   ]
  },
  {
   "cell_type": "code",
   "execution_count": 11,
   "id": "606f8035",
   "metadata": {
    "id": "0c047894"
   },
   "outputs": [
    {
     "name": "stdout",
     "output_type": "stream",
     "text": [
      "The sorted dot product is:\n",
      " [[45 44]\n",
      " [54 58]]\n"
     ]
    }
   ],
   "source": [
    "sorted_dot_product = np.sort(dot_product,axis = 0)\n",
    "\n",
    "print(\"The sorted dot product is:\\n\", sorted_dot_product)"
   ]
  },
  {
   "cell_type": "code",
   "execution_count": 12,
   "id": "3dd19320",
   "metadata": {
    "id": "7c7a5445"
   },
   "outputs": [
    {
     "name": "stdout",
     "output_type": "stream",
     "text": [
      "The transpose of the first matrix is:\n",
      " [[4 2]\n",
      " [3 6]]\n",
      "\n",
      "The transpose of the second matrix is:\n",
      " [[6 7]\n",
      " [5 8]]\n"
     ]
    }
   ],
   "source": [
    "transpose_1 = matrix1.transpose()\n",
    "transpose_2 = matrix2.transpose()\n",
    "\n",
    "print(\"The transpose of the first matrix is:\\n\", transpose_1)\n",
    "print(\"\\nThe transpose of the second matrix is:\\n\", transpose_2)"
   ]
  },
  {
   "cell_type": "markdown",
   "id": "a316587a",
   "metadata": {
    "id": "608f6019"
   },
   "source": [
    "#### Question 4\n",
    "\n",
    "1. Create a 1-dimensional numpy array with numbers from 0 to 8 (HINT: do not manually type each number, there is an easier way)\n",
    "2. Use numpy to find the 3rd power of each number in the array (cube of each number)\n",
    "3. Create a 2-dimensional numpy array as: [[20, 10, 40], [30, 70, 50]] and print the matrix\n",
    "4. Find the mean of each row and each column of the 2-D array created above"
   ]
  },
  {
   "cell_type": "code",
   "execution_count": 13,
   "id": "5107382a",
   "metadata": {
    "id": "78e6184a"
   },
   "outputs": [
    {
     "name": "stdout",
     "output_type": "stream",
     "text": [
      "The new 1-D array is:\n",
      " [0 1 2 3 4 5 6 7 8]\n"
     ]
    }
   ],
   "source": [
    "new_array = np.arange(0,9)\n",
    "\n",
    "print(\"The new 1-D array is:\\n\", new_array)"
   ]
  },
  {
   "cell_type": "code",
   "execution_count": 14,
   "id": "ef8e217c",
   "metadata": {
    "id": "00414dc1"
   },
   "outputs": [
    {
     "name": "stdout",
     "output_type": "stream",
     "text": [
      "The cube of each number of the original array is:\n",
      " [  0   1   8  27  64 125 216 343 512]\n"
     ]
    }
   ],
   "source": [
    "cube_array = np.power(new_array,3)\n",
    "\n",
    "print(\"The cube of each number of the original array is:\\n\", cube_array)"
   ]
  },
  {
   "cell_type": "code",
   "execution_count": 15,
   "id": "1d4fdcc9",
   "metadata": {
    "id": "0de2fd1c"
   },
   "outputs": [
    {
     "name": "stdout",
     "output_type": "stream",
     "text": [
      "The array is:\n",
      " [[20 10 40]\n",
      " [30 70 50]]\n"
     ]
    }
   ],
   "source": [
    "thirdarray = np.array([[20,10,40],[30,70,50]])\n",
    "\n",
    "print(\"The array is:\\n\", thirdarray)"
   ]
  },
  {
   "cell_type": "code",
   "execution_count": 16,
   "id": "c052eb89",
   "metadata": {
    "id": "06260f49"
   },
   "outputs": [
    {
     "name": "stdout",
     "output_type": "stream",
     "text": [
      "The means of the rows are:\n",
      " [23.33333333 50.        ]\n",
      "\n",
      "The means of the columns are:\n",
      " [25. 40. 45.]\n"
     ]
    }
   ],
   "source": [
    "mean_rows = thirdarray.mean(axis=1)\n",
    "mean_columns = thirdarray.mean(axis=0)\n",
    "\n",
    "print(\"The means of the rows are:\\n\", mean_rows)\n",
    "print(\"\\nThe means of the columns are:\\n\", mean_columns)"
   ]
  },
  {
   "cell_type": "markdown",
   "id": "0d61f49b",
   "metadata": {
    "id": "AWdtof1tScFZ"
   },
   "source": [
    "#### Question 5\n",
    "\n",
    "1. Create two 3x3 matrices, as shown below.\\\n",
    "    Matrix 1 = [[1,2,0],[3,-1,2],[-2,3,-2]]   \n",
    "    Matrix 2 = [[[ 5, -6,  6],[ 0,  7,  3],[-1,  8,  1]]\\\n",
    "    Print the matrices.\n",
    "2. Check if the matrices are invertible\n",
    "2. If they are invertible, find the inverse of the matrices\n",
    "3. Print the first column of the inverted matrices (Use Slicing) "
   ]
  },
  {
   "cell_type": "code",
   "execution_count": 17,
   "id": "e5a9c6f2",
   "metadata": {
    "id": "2O-kyx6iVMcf"
   },
   "outputs": [
    {
     "name": "stdout",
     "output_type": "stream",
     "text": [
      "The first matrix is:\n",
      " [[ 1  2  0]\n",
      " [ 3 -1  2]\n",
      " [-2  3 -2]]\n",
      "\n",
      "The second matrix is:\n",
      " [[ 5 -6  6]\n",
      " [ 0  7  3]\n",
      " [-1  8  1]]\n"
     ]
    }
   ],
   "source": [
    "mat1 = np.array([[1,2,0],[3,-1,2],[-2,3,-2]])\n",
    "mat2 = np.array([[ 5, -6, 6],[ 0, 7, 3],[-1, 8, 1]])\n",
    "\n",
    "print(\"The first matrix is:\\n\", mat1)\n",
    "print(\"\\nThe second matrix is:\\n\", mat2)"
   ]
  },
  {
   "cell_type": "code",
   "execution_count": 18,
   "id": "2ac31928",
   "metadata": {},
   "outputs": [
    {
     "name": "stdout",
     "output_type": "stream",
     "text": [
      "First matrix is not invertible\n",
      "Second matrix is invertible\n"
     ]
    }
   ],
   "source": [
    "# Code for part 2\n",
    "if(np.linalg.det(mat1).round() != 0):\n",
    "    print(\"First matrix is invertible\")\n",
    "else:\n",
    "    print(\"First matrix is not invertible\")\n",
    "    \n",
    "if(np.linalg.det(mat2).round() != 0):\n",
    "    print(\"Second matrix is invertible\")\n",
    "else:\n",
    "    print(\"Second matrix is not invertible\")"
   ]
  },
  {
   "cell_type": "code",
   "execution_count": 19,
   "id": "1ca27e96",
   "metadata": {
    "id": "DcoRud5KVgHE"
   },
   "outputs": [
    {
     "name": "stdout",
     "output_type": "stream",
     "text": [
      "Inverse for mat2 is: [[ 0.68 -2.16  2.4 ]\n",
      " [ 0.12 -0.44  0.6 ]\n",
      " [-0.28  1.36 -1.4 ]]\n"
     ]
    }
   ],
   "source": [
    "#Mat1 is not invertible. Hence commenting the code\n",
    "#inv1 = \n",
    "inv2 = np.linalg.inv(mat2)\n",
    "\n",
    "#print(\"Inverse for mat1 is:\", inv1)\n",
    "print(\"Inverse for mat2 is:\", inv2)"
   ]
  },
  {
   "cell_type": "code",
   "execution_count": 20,
   "id": "01367a63",
   "metadata": {
    "id": "xNe1ClLTWPT9"
   },
   "outputs": [
    {
     "name": "stdout",
     "output_type": "stream",
     "text": [
      "The first column of the inverted matrix is: [ 0.68  0.12 -0.28]\n"
     ]
    }
   ],
   "source": [
    "first_col = inv2[:,0]\n",
    "\n",
    "print(\"The first column of the inverted matrix is:\", first_col)"
   ]
  },
  {
   "cell_type": "markdown",
   "id": "aa6f8e08",
   "metadata": {
    "id": "-jOmKDyWWgM2"
   },
   "source": [
    "#### Question 6\n",
    "\n",
    "1. Create two 2x2 matrices:\\\n",
    "   m1=[[5, -10],[-4, 9]]\\\n",
    "   m2=[[-5, -10],[11, 14]], with dtype as float64\\\n",
    "   Print the matrices\n",
    "2. Multiply both the matrices using numpy (not-element wise)\n",
    "3. Use numpy to find the element wise product of both the matrices\n",
    "4. Find square root for [[43,9],[22,34]] "
   ]
  },
  {
   "cell_type": "code",
   "execution_count": 21,
   "id": "bce47722",
   "metadata": {
    "id": "2IxNr2rRbzu0"
   },
   "outputs": [
    {
     "name": "stdout",
     "output_type": "stream",
     "text": [
      "The first matrix is:\n",
      " [[  5. -10.]\n",
      " [ -4.   9.]]\n",
      "\n",
      "The second matrix is:\n",
      " [[ -5. -10.]\n",
      " [ 11.  14.]]\n"
     ]
    }
   ],
   "source": [
    "m1 = np.array([[5, -10],[-4, 9]],dtype='float64')\n",
    "m2 = np.array([[-5, -10],[11, 14]],dtype='float64')\n",
    "\n",
    "print(\"The first matrix is:\\n\", m1)\n",
    "print(\"\\nThe second matrix is:\\n\", m2)"
   ]
  },
  {
   "cell_type": "code",
   "execution_count": 22,
   "id": "d78778f5",
   "metadata": {
    "id": "qUUt2Mj8b4oU"
   },
   "outputs": [
    {
     "name": "stdout",
     "output_type": "stream",
     "text": [
      "m1 x m2 = \n",
      " [[-135. -190.]\n",
      " [ 119.  166.]]\n"
     ]
    }
   ],
   "source": [
    "matrix_mul = np.matmul(m1,m2)\n",
    "\n",
    "print(\"m1 x m2 = \\n\", matrix_mul)"
   ]
  },
  {
   "cell_type": "code",
   "execution_count": 23,
   "id": "171bfbe3",
   "metadata": {},
   "outputs": [
    {
     "name": "stdout",
     "output_type": "stream",
     "text": [
      "Element wise product =  [[-25. 100.]\n",
      " [-44. 126.]]\n"
     ]
    }
   ],
   "source": [
    "elem_mul = np.multiply(m1,m2)\n",
    "\n",
    "print(\"Element wise product = \", elem_mul)"
   ]
  },
  {
   "cell_type": "code",
   "execution_count": 24,
   "id": "720ee26f",
   "metadata": {
    "id": "r7JxoE-FcGBE"
   },
   "outputs": [
    {
     "name": "stdout",
     "output_type": "stream",
     "text": [
      "The square root is =  [[6.55743852 3.        ]\n",
      " [4.69041576 5.83095189]]\n"
     ]
    }
   ],
   "source": [
    "sqr_root = np.sqrt(np.array([[43,9],[22,34]]))\n",
    "\n",
    "print(\"The square root is = \", sqr_root)"
   ]
  },
  {
   "cell_type": "markdown",
   "id": "d77e5307",
   "metadata": {},
   "source": [
    "# Part 2 - Build Your Own Linear Algebra Modules"
   ]
  },
  {
   "cell_type": "markdown",
   "id": "6aeff172",
   "metadata": {},
   "source": [
    "#### Write your own linear algebra functions . You should complete the following function and you are NOT allowed to use the build-in functions of numpy for this part of the assignment. "
   ]
  },
  {
   "cell_type": "code",
   "execution_count": 25,
   "id": "76ca2ba2",
   "metadata": {},
   "outputs": [],
   "source": [
    "\n",
    "def reshape(L, m, n):\n",
    "    # reshape L into a 2d list with m-by-n elements\n",
    "    new_array=[]\n",
    "    if(len(L) != m * n):\n",
    "        print(\"Elements cannot be reshaped\")\n",
    "    else:\n",
    "        for i in range(0,m):\n",
    "            new=[]\n",
    "            for j in range(0,n):\n",
    "                new.append(L[i + j])\n",
    "            new_array.append(new)\n",
    "    return new_array\n",
    "    "
   ]
  },
  {
   "cell_type": "code",
   "execution_count": 26,
   "id": "7a2f24b3",
   "metadata": {},
   "outputs": [],
   "source": [
    "def innprod(u, v):\n",
    "    # inner product of u and v\n",
    "    product_sum = 0.0\n",
    "    for i in range(0,min(len(u),len(v))):\n",
    "        sum += u[i] * v[i]\n",
    "    return sum;"
   ]
  },
  {
   "cell_type": "code",
   "execution_count": 27,
   "id": "d54b0cbd",
   "metadata": {},
   "outputs": [],
   "source": [
    "def transpose(M):\n",
    "    # return transpose matrix\n",
    "    new_matrix = []\n",
    "    for i in range(0,len(m)):\n",
    "        new = []\n",
    "        for j in range(0,len(m[i])):\n",
    "            new.append(m[j][i])\n",
    "        new_matrix.append(new)\n",
    "    return new_matrix"
   ]
  },
  {
   "cell_type": "code",
   "execution_count": 28,
   "id": "59f647d6",
   "metadata": {},
   "outputs": [],
   "source": [
    "def mult(A, B):\n",
    "    # product of matrices\n",
    "    \n",
    "    #Code for matrix multiplication\n",
    "    \n",
    "    no_of_rows_a = len(a)\n",
    "    no_of_cols_a = len(a[0])\n",
    "    \n",
    "    no_of_rows_b = len(b)\n",
    "    no_of_cols_b = len(b[0])\n",
    "    \n",
    "    matrix = []\n",
    "    for i in range(0,no_of_rows_a):\n",
    "        for j in range(0,no_of_cols_b):\n",
    "            temp_list =[]\n",
    "            temp = 0\n",
    "            for k in range(0,no_of_cols_a):\n",
    "                temp += A[i][k] * B[k][j]\n",
    "            temp_list.append(temp)\n",
    "        matrix.append(temp_list)\n",
    "    return matrix\n",
    "    \n",
    "    \n",
    "    "
   ]
  },
  {
   "cell_type": "code",
   "execution_count": null,
   "id": "592845ff",
   "metadata": {},
   "outputs": [],
   "source": []
  }
 ],
 "metadata": {
  "colab": {
   "collapsed_sections": [],
   "name": "Final NumPy Assignment.ipynb",
   "provenance": []
  },
  "kernelspec": {
   "display_name": "Python 3 (ipykernel)",
   "language": "python",
   "name": "python3"
  },
  "language_info": {
   "codemirror_mode": {
    "name": "ipython",
    "version": 3
   },
   "file_extension": ".py",
   "mimetype": "text/x-python",
   "name": "python",
   "nbconvert_exporter": "python",
   "pygments_lexer": "ipython3",
   "version": "3.9.7"
  }
 },
 "nbformat": 4,
 "nbformat_minor": 5
}
